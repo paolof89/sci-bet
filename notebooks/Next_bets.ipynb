{
 "cells": [
  {
   "cell_type": "code",
   "execution_count": 9,
   "metadata": {
    "collapsed": false
   },
   "outputs": [
    {
     "data": {
      "text/html": [
       "<script>requirejs.config({paths: { 'plotly': ['https://cdn.plot.ly/plotly-latest.min']},});if(!window.Plotly) {{require(['plotly'],function(plotly) {window.Plotly=plotly;});}}</script>"
      ]
     },
     "metadata": {},
     "output_type": "execute_result"
    }
   ],
   "source": [
    "from sqlalchemy import create_engine\n",
    "import pandas as pd\n",
    "import plotly as py\n",
    "import plotly.graph_objs as go\n",
    "py.offline.init_notebook_mode(connected=True)"
   ]
  },
  {
   "cell_type": "code",
   "execution_count": 10,
   "metadata": {
    "collapsed": true
   },
   "outputs": [],
   "source": [
    "model = 'mlp_1'\n",
    "strategy = 'value_bet_0.2'"
   ]
  },
  {
   "cell_type": "code",
   "execution_count": 11,
   "metadata": {
    "collapsed": false
   },
   "outputs": [],
   "source": [
    "db = create_engine(\"mysql://root@localhost/football_data\")\n",
    "df = pd.read_sql(sql=\"\"\"\n",
    "select c.MATCH_ID, c.Date, c.competition_code, c.season_code, \n",
    "h.long_name as HomeTeam, aw.long_name as AwayTeam,\n",
    "1/a.pH as fH, 1/a.pD as fD, 1/a.pA as fA,\n",
    "c.BbAvH, c.BbAvD, c.BbAvA,\n",
    "bH, bD, bA, payout, FTR\n",
    "from match_prob a \n",
    "join match_bet b on a.MODEL = b.MODEL and a.MATCH_ID=b.MATCH_ID\n",
    "join match_teams c on a.MATCH_ID = c.MATCH_ID\n",
    "join teams h on c.HomeTeam = h.team_id \n",
    "join teams aw on c.AwayTeam = aw.team_id\n",
    "where b.MODEL = '{model}' and b.STRATEGY='{strategy}' \n",
    "and bH+bD+bA > 0 and FTR is null\"\"\".format(model=model, strategy=strategy),\n",
    "con=db)"
   ]
  },
  {
   "cell_type": "code",
   "execution_count": 12,
   "metadata": {
    "collapsed": false
   },
   "outputs": [
    {
     "data": {
      "text/html": [
       "<div>\n",
       "<style>\n",
       "    .dataframe thead tr:only-child th {\n",
       "        text-align: right;\n",
       "    }\n",
       "\n",
       "    .dataframe thead th {\n",
       "        text-align: left;\n",
       "    }\n",
       "\n",
       "    .dataframe tbody tr th {\n",
       "        vertical-align: top;\n",
       "    }\n",
       "</style>\n",
       "<table border=\"1\" class=\"dataframe\">\n",
       "  <thead>\n",
       "    <tr style=\"text-align: right;\">\n",
       "      <th></th>\n",
       "      <th>MATCH_ID</th>\n",
       "      <th>Date</th>\n",
       "      <th>competition_code</th>\n",
       "      <th>season_code</th>\n",
       "      <th>HomeTeam</th>\n",
       "      <th>AwayTeam</th>\n",
       "      <th>fH</th>\n",
       "      <th>fD</th>\n",
       "      <th>fA</th>\n",
       "      <th>BbAvH</th>\n",
       "      <th>BbAvD</th>\n",
       "      <th>BbAvA</th>\n",
       "      <th>bH</th>\n",
       "      <th>bD</th>\n",
       "      <th>bA</th>\n",
       "      <th>payout</th>\n",
       "      <th>FTR</th>\n",
       "    </tr>\n",
       "  </thead>\n",
       "  <tbody>\n",
       "    <tr>\n",
       "      <th>0</th>\n",
       "      <td>57476</td>\n",
       "      <td>2017-12-13</td>\n",
       "      <td>SC0</td>\n",
       "      <td>1718</td>\n",
       "      <td>St Johnstone</td>\n",
       "      <td>Aberdeen</td>\n",
       "      <td>3.029590</td>\n",
       "      <td>3.557236</td>\n",
       "      <td>2.571982</td>\n",
       "      <td>3.69</td>\n",
       "      <td>3.23</td>\n",
       "      <td>2.05</td>\n",
       "      <td>1.0</td>\n",
       "      <td>0.0</td>\n",
       "      <td>0.0</td>\n",
       "      <td>0.0</td>\n",
       "      <td>None</td>\n",
       "    </tr>\n",
       "    <tr>\n",
       "      <th>1</th>\n",
       "      <td>57898</td>\n",
       "      <td>2017-12-17</td>\n",
       "      <td>F1</td>\n",
       "      <td>1718</td>\n",
       "      <td>Nantes</td>\n",
       "      <td>Angers</td>\n",
       "      <td>2.498712</td>\n",
       "      <td>3.315905</td>\n",
       "      <td>3.353263</td>\n",
       "      <td>2.02</td>\n",
       "      <td>3.18</td>\n",
       "      <td>4.07</td>\n",
       "      <td>0.0</td>\n",
       "      <td>0.0</td>\n",
       "      <td>1.0</td>\n",
       "      <td>0.0</td>\n",
       "      <td>None</td>\n",
       "    </tr>\n",
       "    <tr>\n",
       "      <th>2</th>\n",
       "      <td>57900</td>\n",
       "      <td>2017-12-15</td>\n",
       "      <td>F2</td>\n",
       "      <td>1718</td>\n",
       "      <td>Ajaccio</td>\n",
       "      <td>Auxerre</td>\n",
       "      <td>2.193260</td>\n",
       "      <td>3.569114</td>\n",
       "      <td>3.789658</td>\n",
       "      <td>1.82</td>\n",
       "      <td>3.24</td>\n",
       "      <td>4.63</td>\n",
       "      <td>0.0</td>\n",
       "      <td>0.0</td>\n",
       "      <td>1.0</td>\n",
       "      <td>0.0</td>\n",
       "      <td>None</td>\n",
       "    </tr>\n",
       "  </tbody>\n",
       "</table>\n",
       "</div>"
      ],
      "text/plain": [
       "   MATCH_ID        Date competition_code season_code      HomeTeam  AwayTeam  \\\n",
       "0     57476  2017-12-13              SC0        1718  St Johnstone  Aberdeen   \n",
       "1     57898  2017-12-17               F1        1718        Nantes    Angers   \n",
       "2     57900  2017-12-15               F2        1718       Ajaccio   Auxerre   \n",
       "\n",
       "         fH        fD        fA  BbAvH  BbAvD  BbAvA   bH   bD   bA  payout  \\\n",
       "0  3.029590  3.557236  2.571982   3.69   3.23   2.05  1.0  0.0  0.0     0.0   \n",
       "1  2.498712  3.315905  3.353263   2.02   3.18   4.07  0.0  0.0  1.0     0.0   \n",
       "2  2.193260  3.569114  3.789658   1.82   3.24   4.63  0.0  0.0  1.0     0.0   \n",
       "\n",
       "    FTR  \n",
       "0  None  \n",
       "1  None  \n",
       "2  None  "
      ]
     },
     "execution_count": 12,
     "metadata": {},
     "output_type": "execute_result"
    }
   ],
   "source": [
    "df"
   ]
  },
  {
   "cell_type": "code",
   "execution_count": null,
   "metadata": {
    "collapsed": true
   },
   "outputs": [],
   "source": [
    ""
   ]
  }
 ],
 "metadata": {
  "kernelspec": {
   "display_name": "scibet",
   "language": "python",
   "name": "bma"
  },
  "language_info": {
   "codemirror_mode": {
    "name": "ipython",
    "version": 3.0
   },
   "file_extension": ".py",
   "mimetype": "text/x-python",
   "name": "python",
   "nbconvert_exporter": "python",
   "pygments_lexer": "ipython3",
   "version": "3.5.3"
  }
 },
 "nbformat": 4,
 "nbformat_minor": 0
}